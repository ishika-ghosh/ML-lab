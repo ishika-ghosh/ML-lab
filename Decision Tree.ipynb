{
 "cells": [
  {
   "cell_type": "markdown",
   "id": "9c0c8567",
   "metadata": {},
   "source": [
    "Assignment 1:Take fruits.csv and perform classification based on Decision tree. What is the success rate?"
   ]
  },
  {
   "cell_type": "code",
   "execution_count": 1,
   "id": "5d64211d",
   "metadata": {},
   "outputs": [],
   "source": [
    "import numpy as np\n",
    "import matplotlib.pyplot as plt\n",
    "import pandas as pd\n",
    "from sklearn.model_selection import train_test_split\n",
    "from sklearn.preprocessing import StandardScaler\n",
    "from sklearn.tree import DecisionTreeClassifier\n",
    "from sklearn.metrics import confusion_matrix, accuracy_score"
   ]
  },
  {
   "cell_type": "code",
   "execution_count": 2,
   "id": "bed006b6",
   "metadata": {},
   "outputs": [
    {
     "name": "stdout",
     "output_type": "stream",
     "text": [
      "   Index  Weight  size   Class\n",
      "0      0      69  4.39  orange\n",
      "1      1      68  4.21  orange\n",
      "2      2      65  4.28  orange\n",
      "3      3      72  5.85   apple\n",
      "4      4      67  4.74  orange\n",
      "\n",
      "\n",
      "Confusion Matrix:\n",
      " [[2 0]\n",
      " [0 3]]\n",
      "The accuracy score is : 100.0 %\n"
     ]
    }
   ],
   "source": [
    "ds=pd.read_csv('fruits.csv')\n",
    "print(ds.head())\n",
    "ds=ds.drop(columns=\"Index\", axis=1)\n",
    "X=ds.iloc[:,:-1].values\n",
    "Y=ds.iloc[:,-1].values\n",
    "X_train,X_test,Y_train,Y_test=train_test_split(X,Y,test_size=0.25,random_state=42)\n",
    "sc=StandardScaler()\n",
    "X_train=sc.fit_transform(X_train)\n",
    "X_test=sc.transform(X_test)\n",
    "classifier=DecisionTreeClassifier(criterion=\"entropy\",random_state=0)\n",
    "classifier.fit(X_train,Y_train)\n",
    "Y_pred=classifier.predict(X_test)\n",
    "cm=confusion_matrix(Y_test,Y_pred)\n",
    "print(\"\\n\\nConfusion Matrix:\\n\",cm)\n",
    "ac=accuracy_score(Y_test,Y_pred)\n",
    "print(\"The accuracy score is :\",ac*100,\"%\")"
   ]
  }
 ],
 "metadata": {
  "kernelspec": {
   "display_name": "Python 3 (ipykernel)",
   "language": "python",
   "name": "python3"
  },
  "language_info": {
   "codemirror_mode": {
    "name": "ipython",
    "version": 3
   },
   "file_extension": ".py",
   "mimetype": "text/x-python",
   "name": "python",
   "nbconvert_exporter": "python",
   "pygments_lexer": "ipython3",
   "version": "3.9.7"
  }
 },
 "nbformat": 4,
 "nbformat_minor": 5
}
