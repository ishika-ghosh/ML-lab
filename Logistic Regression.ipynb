{
 "cells": [
  {
   "cell_type": "markdown",
   "id": "8c3efff7",
   "metadata": {},
   "source": [
    " Assignment 2: Go through “Student-Pass-Fail-Data.csv\" where self -study daily and tuition monthly are the two influential factors where 1 is pass and 0 is for fail. Use logistic regression and now reduce the number of rows to half and see the success rate has it influenced by the data."
   ]
  },
  {
   "cell_type": "code",
   "execution_count": 1,
   "id": "f1200248",
   "metadata": {},
   "outputs": [],
   "source": [
    "import pandas as pd\n",
    "import matplotlib.pyplot as plt\n",
    "from sklearn import metrics\n",
    "from sklearn.linear_model import LogisticRegression\n",
    "from sklearn.model_selection import train_test_split"
   ]
  },
  {
   "cell_type": "code",
   "execution_count": 2,
   "id": "c28a9bbe",
   "metadata": {},
   "outputs": [
    {
     "data": {
      "image/png": "[encoded data removed]",
      "text/plain": [
       "<Figure size 432x288 with 1 Axes>"
      ]
     },
     "metadata": {
      "needs_background": "light"
     },
     "output_type": "display_data"
    },
    {
     "data": {
      "image/png": "[encoded data removed]",
      "text/plain": [
       "<Figure size 432x288 with 1 Axes>"
      ]
     },
     "metadata": {
      "needs_background": "light"
     },
     "output_type": "display_data"
    },
    {
     "name": "stdout",
     "output_type": "stream",
     "text": [
      "The percentage of accurate prediction =  96.8 %\n"
     ]
    }
   ],
   "source": [
    "#Assignment 2\n",
    "df = pd.read_csv(\"Student-Pass-Fail-Data.csv\")\n",
    "df.size\n",
    "df1 = df\n",
    "plt.scatter(df1['Self_Study_Daily'],df1['Pass_Or_Fail'])\n",
    "plt.xlabel('Self_Study_Daily')\n",
    "plt.ylabel('Pass_Or_Fail')\n",
    "plt.show()\n",
    "plt.scatter(df1['Tution_Monthly'],df1['Pass_Or_Fail'])\n",
    "plt.xlabel('Tution_Monthly')\n",
    "plt.ylabel('Pass_Or_Fail')\n",
    "plt.show()\n",
    "X = df1.drop('Pass_Or_Fail',axis = 1)\n",
    "Y = df1['Pass_Or_Fail']\n",
    "X_train, X_test, Y_train, Y_test = train_test_split(X, Y, random_state=4)\n",
    "logistic_regression = LogisticRegression()\n",
    "logistic_regression.fit(X_train,Y_train)\n",
    "LogisticRegression(C=1.0,class_weight=None,dual=False,fit_intercept=True,\n",
    "intercept_scaling=1, max_iter=100, multi_class='ovr', n_jobs=1,\n",
    "penalty='l2', random_state=None, solver='liblinear', tol=0.0001,\n",
    "verbose=0, warm_start=False)\n",
    "Y_pred = logistic_regression.predict(X_test)\n",
    "accuracy = metrics.accuracy_score(Y_test,Y_pred)\n",
    "accuracy_percentage = 100 * accuracy\n",
    "print(\"The percentage of accurate prediction = \",accuracy_percentage,\"%\")\n"
   ]
  },
  {
   "cell_type": "code",
   "execution_count": 3,
   "id": "10024790",
   "metadata": {},
   "outputs": [
    {
     "data": {
      "image/png": "[encoded data removed]",
      "text/plain": [
       "<Figure size 432x288 with 1 Axes>"
      ]
     },
     "metadata": {
      "needs_background": "light"
     },
     "output_type": "display_data"
    },
    {
     "data": {
      "image/png": "[encoded data removed]",
      "text/plain": [
       "<Figure size 432x288 with 1 Axes>"
      ]
     },
     "metadata": {
      "needs_background": "light"
     },
     "output_type": "display_data"
    },
    {
     "name": "stdout",
     "output_type": "stream",
     "text": [
      "The percentage of accurate prediction =  98.4 %\n"
     ]
    }
   ],
   "source": [
    "#Now, we run the same regression but considering half of the data to see if the percentage of prediction improves.\n",
    "df = pd.read_csv(\"Student-Pass-Fail-Data.csv\")\n",
    "df.size\n",
    "df1 = df.head(500)\n",
    "plt.scatter(df1['Self_Study_Daily'],df1['Pass_Or_Fail'])\n",
    "plt.xlabel('Self_Study_Daily')\n",
    "plt.ylabel('Pass_Or_Fail')\n",
    "plt.show()\n",
    "plt.scatter(df1['Tution_Monthly'],df1['Pass_Or_Fail'])\n",
    "plt.xlabel('Tution_Monthly')\n",
    "plt.ylabel('Pass_Or_Fail')\n",
    "plt.show()\n",
    "X = df1.drop('Pass_Or_Fail',axis = 1)\n",
    "Y = df1['Pass_Or_Fail']\n",
    "X_train, X_test, Y_train, Y_test = train_test_split(X, Y, random_state=4)\n",
    "logistic_regression = LogisticRegression()\n",
    "logistic_regression.fit(X_train,Y_train)\n",
    "LogisticRegression(C=1.0,class_weight=None,dual=False,fit_intercept=True,\n",
    "intercept_scaling=1, max_iter=100, multi_class='ovr', n_jobs=1,\n",
    "penalty='l2', random_state=None, solver='liblinear', tol=0.0001,\n",
    "verbose=0, warm_start=False)\n",
    "Y_pred = logistic_regression.predict(X_test)\n",
    "accuracy = metrics.accuracy_score(Y_test,Y_pred)\n",
    "accuracy_percentage = 100 * accuracy\n",
    "print(\"The percentage of accurate prediction = \",accuracy_percentage,\"%\")\n"
   ]
  },
  {
   "cell_type": "markdown",
   "id": "d77a13f8",
   "metadata": {},
   "source": [
    "Take the following x = np.arange(10).reshape(-1, 1) y = np.array([0, 0, 0, 1, 1, 1, 1, 1, 1, 1]) Design a Logistic Regression. What value of c gives you optimum result. Modify your model till you get 100% accuracy. (c=1,5,10) show the result."
   ]
  },
  {
   "cell_type": "code",
   "execution_count": 4,
   "id": "3a4c5f13",
   "metadata": {},
   "outputs": [],
   "source": [
    "import numpy as np\n",
    "from sklearn.linear_model import LogisticRegression\n",
    "from sklearn.metrics import accuracy_score"
   ]
  },
  {
   "cell_type": "code",
   "execution_count": 5,
   "id": "923572a7",
   "metadata": {},
   "outputs": [
    {
     "name": "stdout",
     "output_type": "stream",
     "text": [
      "[0 0 1 1 1 1 1 1 1 1]\n",
      "[0 0 0 1 1 1 1 1 1 1]\n",
      "Accuracy Score:  100.0\n"
     ]
    }
   ],
   "source": [
    "#Assignment 7\n",
    "x = np.arange(10).reshape(-1, 1)\n",
    "y = np.array([0, 0, 0, 1, 1, 1, 1, 1, 1, 1])\n",
    "model = LogisticRegression(\n",
    "solver='liblinear',\n",
    "random_state=0,\n",
    "C=1\n",
    ")\n",
    "model.fit(x, y)\n",
    "pred_m = model.predict(x)\n",
    "print(pred_m)\n",
    "model = LogisticRegression(solver='liblinear',random_state=0,C=5)\n",
    "model.fit(x, y)\n",
    "pred_m = model.predict(x)\n",
    "print(pred_m)\n",
    "print(\"Accuracy Score: \", round(accuracy_score(pred_m, y) * 100, 2))"
   ]
  }
 ],
 "metadata": {
  "kernelspec": {
   "display_name": "Python 3 (ipykernel)",
   "language": "python",
   "name": "python3"
  },
  "language_info": {
   "codemirror_mode": {
    "name": "ipython",
    "version": 3
   },
   "file_extension": ".py",
   "mimetype": "text/x-python",
   "name": "python",
   "nbconvert_exporter": "python",
   "pygments_lexer": "ipython3",
   "version": "3.9.7"
  }
 },
 "nbformat": 4,
 "nbformat_minor": 5
}
