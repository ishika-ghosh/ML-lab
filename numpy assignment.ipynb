{
 "cells": [
  {
   "cell_type": "code",
   "execution_count": 1,
   "id": "aaaaf8a2",
   "metadata": {},
   "outputs": [],
   "source": [
    "import matplotlib.pyplot as plt\n",
    "import numpy as np"
   ]
  },
  {
   "cell_type": "markdown",
   "id": "efc41bf9",
   "metadata": {},
   "source": [
    "# 1. Take a 3X3 matrix randomly and another matrix by assigning elements. Now add the 2 matrix and store it in a separate matrix C."
   ]
  },
  {
   "cell_type": "code",
   "execution_count": 2,
   "id": "c50ed0a9",
   "metadata": {},
   "outputs": [
    {
     "name": "stdout",
     "output_type": "stream",
     "text": [
      "A is \n",
      "[[14  1 12]\n",
      " [11  3  5]\n",
      " [12 11 10]]\n",
      "B is \n",
      "[[1 2 3]\n",
      " [4 5 6]\n",
      " [7 8 9]]\n",
      "Sum is \n",
      "[[15  3 15]\n",
      " [15  8 11]\n",
      " [19 19 19]]\n"
     ]
    }
   ],
   "source": [
    "#assignment 1\n",
    "a=np.random.randint(0,20,9).reshape((3,3))\n",
    "b=np.array([1,2,3,4,5,6,7,8,9]).reshape((3,3))\n",
    "print(\"A is \")\n",
    "print(a)\n",
    "print(\"B is \")\n",
    "print(b)\n",
    "c=a+b\n",
    "print(\"Sum is \")\n",
    "print(c)"
   ]
  },
  {
   "cell_type": "markdown",
   "id": "08cd105a",
   "metadata": {},
   "source": [
    "# 2. Take 3X3 matrixes add it with another 3x3 of all 1 matrix and convert that to a complex data type matrix."
   ]
  },
  {
   "cell_type": "code",
   "execution_count": 3,
   "id": "901ef21a",
   "metadata": {},
   "outputs": [
    {
     "data": {
      "text/plain": [
       "array([[12.+0.j,  9.+0.j, 14.+0.j],\n",
       "       [20.+0.j,  3.+0.j, 11.+0.j],\n",
       "       [17.+0.j, 10.+0.j, 19.+0.j]])"
      ]
     },
     "execution_count": 3,
     "metadata": {},
     "output_type": "execute_result"
    }
   ],
   "source": [
    "#assignment 2\n",
    "a=np.random.randint(0,20,9).reshape((3,3))\n",
    "b=np.ones((3,3),dtype=np.int16)\n",
    "c=a+b\n",
    "ans=np.array(c,dtype=complex)\n",
    "ans"
   ]
  },
  {
   "cell_type": "markdown",
   "id": "6e660a7c",
   "metadata": {},
   "source": [
    "# 3. Take a 3X3 matrix and multiply element wise with 3X 3 another matrix."
   ]
  },
  {
   "cell_type": "code",
   "execution_count": 4,
   "id": "e178d23d",
   "metadata": {},
   "outputs": [
    {
     "data": {
      "text/plain": [
       "array([[14, 11, 18],\n",
       "       [10, 19, 15],\n",
       "       [ 7, 16,  1]])"
      ]
     },
     "execution_count": 4,
     "metadata": {},
     "output_type": "execute_result"
    }
   ],
   "source": [
    "#assignment 3\n",
    "a=np.random.randint(0,20,9).reshape((3,3))\n",
    "b=np.ones((3,3) ,dtype=np.int16)\n",
    "c=a*b\n",
    "c"
   ]
  },
  {
   "cell_type": "markdown",
   "id": "23617e6d",
   "metadata": {},
   "source": [
    "# 4. Multiply 2 3X3 matrixes."
   ]
  },
  {
   "cell_type": "code",
   "execution_count": 5,
   "id": "40a7434e",
   "metadata": {},
   "outputs": [
    {
     "name": "stdout",
     "output_type": "stream",
     "text": [
      "a is\n",
      "[[ 0 15  9]\n",
      " [ 2 17 13]\n",
      " [ 0  7 19]]\n",
      "b is \n",
      "[[1 1 1]\n",
      " [1 1 1]\n",
      " [1 1 1]]\n",
      "multiplication is \n",
      "[[24 24 24]\n",
      " [32 32 32]\n",
      " [26 26 26]]\n"
     ]
    }
   ],
   "source": [
    "#assignment 4\n",
    "a=np.random.randint(0,20,9).reshape((3,3))\n",
    "b=np.ones((3,3) ,dtype=np.int16)\n",
    "print(\"a is\")\n",
    "print(a)\n",
    "print(\"b is \")\n",
    "print(b)\n",
    "c=a@b\n",
    "print(\"multiplication is \")\n",
    "print(c)"
   ]
  },
  {
   "cell_type": "markdown",
   "id": "bea2215d",
   "metadata": {},
   "source": [
    "# 5.Randomly generate 10 numbers in between 1 to 10 and convert that to a 5X2 matrix. Take a floating-point matrix and perform the addition. a= floating point matrix and b is an integer matrix of same dimension. Why a+=b is not equal to b+=a. Explain briefly. How can we resolve this problem?"
   ]
  },
  {
   "cell_type": "code",
   "execution_count": 6,
   "id": "c9b864a9",
   "metadata": {},
   "outputs": [
    {
     "data": {
      "text/plain": [
       "array([[4., 9.],\n",
       "       [5., 3.],\n",
       "       [3., 2.],\n",
       "       [5., 4.],\n",
       "       [4., 4.]])"
      ]
     },
     "execution_count": 6,
     "metadata": {},
     "output_type": "execute_result"
    }
   ],
   "source": [
    "#assignment 5\n",
    "i=np.random.randint(1,10,10).reshape((5,2))\n",
    "a=np.array(i,dtype='float')\n",
    "b=np.ones((5,2) ,dtype=np.int16)\n",
    "a+=b\n",
    "a"
   ]
  },
  {
   "cell_type": "markdown",
   "id": "4d18f482",
   "metadata": {},
   "source": [
    "#### in case of a+=b the integer array b is automatically typecasted into float \n",
    "#### but in case of b+=a a is not automatically converted to integer type\n",
    "#### so it will give an error"
   ]
  },
  {
   "cell_type": "markdown",
   "id": "6222f8d4",
   "metadata": {},
   "source": [
    "# 6. Take x values and plot the cos(x) and tan(x) in a graph using matplotlib."
   ]
  },
  {
   "cell_type": "code",
   "execution_count": 7,
   "id": "6b78c4fc",
   "metadata": {},
   "outputs": [
    {
     "data": {
      "image/png": "[encoded data removed]",
      "text/plain": [
       "<Figure size 432x288 with 1 Axes>"
      ]
     },
     "metadata": {
      "needs_background": "light"
     },
     "output_type": "display_data"
    },
    {
     "data": {
      "image/png": "[encoded data removed]",
      "text/plain": [
       "<Figure size 432x288 with 1 Axes>"
      ]
     },
     "metadata": {
      "needs_background": "light"
     },
     "output_type": "display_data"
    }
   ],
   "source": [
    "#Assignment 6\n",
    "x=np.linspace( -2*np.pi, 2*np.pi, 200 )\n",
    "y=np.cos(x)\n",
    "z=np.tan(x)\n",
    "plt.plot(x,y)\n",
    "plt.show()\n",
    "plt.plot(x,z)\n",
    "plt.show()"
   ]
  },
  {
   "cell_type": "markdown",
   "id": "c02396f3",
   "metadata": {},
   "source": [
    "# 7.Take a multidimensional array (3, 3, 3) and print the last column."
   ]
  },
  {
   "cell_type": "code",
   "execution_count": 8,
   "id": "d02ae954",
   "metadata": {},
   "outputs": [
    {
     "data": {
      "text/plain": [
       "array([[ 3,  6,  9],\n",
       "       [12, 15, 18],\n",
       "       [21, 24, 27]])"
      ]
     },
     "execution_count": 8,
     "metadata": {},
     "output_type": "execute_result"
    }
   ],
   "source": [
    "#assignment 7\n",
    "a=np.arange(1,28,1)\n",
    "b=np.reshape(a,(3,3,3))\n",
    "b[...,-1]\n",
    "        "
   ]
  },
  {
   "cell_type": "markdown",
   "id": "dca50d4e",
   "metadata": {},
   "source": [
    "# 8.Take a function f(x) =x^3 + 5*y +4*z and determine the values and store them in a (3,3,3) matrix."
   ]
  },
  {
   "cell_type": "code",
   "execution_count": 9,
   "id": "18f9275d",
   "metadata": {},
   "outputs": [
    {
     "data": {
      "text/plain": [
       "array([[[ 0,  5, 10],\n",
       "        [ 4,  9, 14],\n",
       "        [ 8, 13, 18]],\n",
       "\n",
       "       [[ 1,  6, 11],\n",
       "        [ 5, 10, 15],\n",
       "        [ 9, 14, 19]],\n",
       "\n",
       "       [[ 8, 13, 18],\n",
       "        [12, 17, 22],\n",
       "        [16, 21, 26]]])"
      ]
     },
     "execution_count": 9,
     "metadata": {},
     "output_type": "execute_result"
    }
   ],
   "source": [
    "#assignment 8\n",
    "import numpy as np\n",
    "def f(x,y,z):\n",
    "    return x**3+(4*y)+(5*z)\n",
    "ans=np.fromfunction(f,(3,3,3),dtype=int)\n",
    "ans"
   ]
  },
  {
   "cell_type": "markdown",
   "id": "2899580f",
   "metadata": {},
   "source": [
    "# 9.Using axis add the column values of a 3X3 matrix and then add it with the maximum values of rows taken in a 3X 3 matrix"
   ]
  },
  {
   "cell_type": "code",
   "execution_count": 10,
   "id": "91ce9c66",
   "metadata": {},
   "outputs": [
    {
     "name": "stdout",
     "output_type": "stream",
     "text": [
      "matrix is \n",
      "[[0 1 2]\n",
      " [3 4 5]\n",
      " [6 7 8]]\n",
      "the sum is  [ 9 12 15]\n",
      "max is  [2 5 8]\n"
     ]
    },
    {
     "data": {
      "text/plain": [
       "array([11, 17, 23])"
      ]
     },
     "execution_count": 10,
     "metadata": {},
     "output_type": "execute_result"
    }
   ],
   "source": [
    "#assignment 9\n",
    "a=np.arange(9).reshape(3,3)\n",
    "print(\"matrix is \")\n",
    "print(a)\n",
    "print(\"the sum is \",a.sum(axis=0))\n",
    "print(\"max is \",a.max(axis=1))\n",
    "c=a.max(axis=1)+a.sum(axis=0)\n",
    "c"
   ]
  },
  {
   "cell_type": "markdown",
   "id": "c20d8140",
   "metadata": {},
   "source": [
    "# 10. f(x) = x^3 + 5y and store it in (3,3) matrix."
   ]
  },
  {
   "cell_type": "code",
   "execution_count": 11,
   "id": "03567529",
   "metadata": {},
   "outputs": [
    {
     "data": {
      "text/plain": [
       "array([[ 0,  5, 10],\n",
       "       [ 1,  6, 11],\n",
       "       [ 8, 13, 18]])"
      ]
     },
     "execution_count": 11,
     "metadata": {},
     "output_type": "execute_result"
    }
   ],
   "source": [
    "#assignment 10\n",
    "def f(x,y):\n",
    "    return x**3+(5*y)\n",
    "a=np.fromfunction(f,(3,3),dtype=int)\n",
    "a"
   ]
  },
  {
   "cell_type": "markdown",
   "id": "ec77aad1",
   "metadata": {},
   "source": [
    "# 11.Take a function array a; cube with a range of 20 and find out what will be the value of a [[7,8], [9,11]]. If we take values a [[7, 8], [9, 21]] will it take if not why?"
   ]
  },
  {
   "cell_type": "code",
   "execution_count": 12,
   "id": "9cc9b0e0",
   "metadata": {},
   "outputs": [
    {
     "data": {
      "text/plain": [
       "array([   0,    1,    8,   27,   64,  125,  216,  343,  512,  729, 1000,\n",
       "       1331, 1728, 2197, 2744, 3375, 4096, 4913, 5832, 6859], dtype=int32)"
      ]
     },
     "execution_count": 12,
     "metadata": {},
     "output_type": "execute_result"
    }
   ],
   "source": [
    "#assignment 11\n",
    "a=np.arange(0,20)\n",
    "a**3"
   ]
  },
  {
   "cell_type": "markdown",
   "id": "2f06fff7",
   "metadata": {},
   "source": [
    "# 12.Take a random number from 0 to 19 and make a 4X5 matrix then find the values of (i) 3rd row and 4th column only and (ii) only 4th column values."
   ]
  },
  {
   "cell_type": "code",
   "execution_count": 13,
   "id": "122c1cbe",
   "metadata": {},
   "outputs": [
    {
     "name": "stdout",
     "output_type": "stream",
     "text": [
      "[[ 3 11 12  5  4]\n",
      " [ 6 17 13  0 18]\n",
      " [10  6 14  7 11]\n",
      " [ 9 10 11  7  7]]\n",
      "Third row: \n",
      "[[10  6 14  7 11]]\n",
      "Fourth column \n",
      "[5 0 7 7]\n"
     ]
    }
   ],
   "source": [
    "#assignment 12\n",
    "a=np.random.randint(0,20,20).reshape((4,5))\n",
    "print(a)\n",
    "print(\"Third row: \")\n",
    "print(a[2:3,:])\n",
    "print(\"Fourth column \")\n",
    "print(a[:,3])"
   ]
  },
  {
   "cell_type": "markdown",
   "id": "3804693d",
   "metadata": {},
   "source": [
    "# 13.Take a matrix of 5X4 randomly and create 2 3x3 values i and j respectively and take a tuple named m with i and j as an argument and generate the values of the matrix for the specified tuple. i<=4 and j<=3."
   ]
  },
  {
   "cell_type": "code",
   "execution_count": 14,
   "id": "ac14a44f",
   "metadata": {},
   "outputs": [
    {
     "data": {
      "text/plain": [
       "array([[ 0,  5,  6],\n",
       "       [ 1, 10,  4],\n",
       "       [10,  0,  5]])"
      ]
     },
     "execution_count": 14,
     "metadata": {},
     "output_type": "execute_result"
    }
   ],
   "source": [
    "#assignment 13\n",
    "a=np.arange(20).reshape(5,4)\n",
    "i=np.array([[0,1,1],[0,2,1],[2,0,1]])\n",
    "j=np.array([[0,1,2],[1,2,0],[2,0,1]])\n",
    "m=(i,j)\n",
    "a[m]\n"
   ]
  },
  {
   "cell_type": "markdown",
   "id": "cf2ce5aa",
   "metadata": {},
   "source": [
    "# 14.Take a matrix of 3x3 and find out the Eigen vector and Eigen values of that matrix."
   ]
  },
  {
   "cell_type": "code",
   "execution_count": 15,
   "id": "609a8459",
   "metadata": {},
   "outputs": [
    {
     "data": {
      "text/plain": [
       "(array([16.27065482,  3.19308377, -2.46373859]),\n",
       " array([[ 0.69447585,  0.85551539, -0.50428167],\n",
       "        [ 0.57745337, -0.41859172, -0.30019423],\n",
       "        [ 0.42924457, -0.30475299,  0.80968106]]))"
      ]
     },
     "execution_count": 15,
     "metadata": {},
     "output_type": "execute_result"
    }
   ],
   "source": [
    "#assignment 14\n",
    "a=np.random.randint(0,9,9).reshape((3,3))\n",
    "np.linalg.eig(a)\n"
   ]
  },
  {
   "cell_type": "markdown",
   "id": "862436b9",
   "metadata": {},
   "source": [
    "# 15.Take a matrix and by taking the i, j or x, y values implement the hstack and vstack methods."
   ]
  },
  {
   "cell_type": "code",
   "execution_count": 16,
   "id": "90a46d09",
   "metadata": {},
   "outputs": [
    {
     "name": "stdout",
     "output_type": "stream",
     "text": [
      "vstack is \n",
      "[[0 2 4 6 8]\n",
      " [0 1 2 3 4]]\n",
      "hstack is \n",
      "[0 2 4 6 8 0 1 2 3 4]\n"
     ]
    }
   ],
   "source": [
    "#assignment 15\n",
    "x=np.arange(0,10,2)\n",
    "y=np.arange(5)\n",
    "m=np.vstack([x,y])\n",
    "print(\"vstack is \")\n",
    "print(m)\n",
    "n=np.hstack([x,y])\n",
    "print(\"hstack is \")\n",
    "print(n)"
   ]
  }
 ],
 "metadata": {
  "kernelspec": {
   "display_name": "Python 3 (ipykernel)",
   "language": "python",
   "name": "python3"
  },
  "language_info": {
   "codemirror_mode": {
    "name": "ipython",
    "version": 3
   },
   "file_extension": ".py",
   "mimetype": "text/x-python",
   "name": "python",
   "nbconvert_exporter": "python",
   "pygments_lexer": "ipython3",
   "version": "3.9.7"
  }
 },
 "nbformat": 4,
 "nbformat_minor": 5
}
