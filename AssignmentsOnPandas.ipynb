{
 "cells": [
  {
   "cell_type": "code",
   "execution_count": 1,
   "id": "9a57d679",
   "metadata": {},
   "outputs": [],
   "source": [
    "import pandas as pd"
   ]
  },
  {
   "cell_type": "markdown",
   "id": "0ee1458e",
   "metadata": {},
   "source": [
    "## Create 3 indexes with name, roll number, fees amount in a vector and print the data frame by taking values in indexes."
   ]
  },
  {
   "cell_type": "code",
   "execution_count": 2,
   "id": "02943ddd",
   "metadata": {},
   "outputs": [
    {
     "data": {
      "text/html": [
       "<div>\n",
       "<style scoped>\n",
       "    .dataframe tbody tr th:only-of-type {\n",
       "        vertical-align: middle;\n",
       "    }\n",
       "\n",
       "    .dataframe tbody tr th {\n",
       "        vertical-align: top;\n",
       "    }\n",
       "\n",
       "    .dataframe thead th {\n",
       "        text-align: right;\n",
       "    }\n",
       "</style>\n",
       "<table border=\"1\" class=\"dataframe\">\n",
       "  <thead>\n",
       "    <tr style=\"text-align: right;\">\n",
       "      <th></th>\n",
       "      <th>Name</th>\n",
       "      <th>Roll Number</th>\n",
       "      <th>Fees Amount</th>\n",
       "    </tr>\n",
       "  </thead>\n",
       "  <tbody>\n",
       "    <tr>\n",
       "      <th>0</th>\n",
       "      <td>Ishika</td>\n",
       "      <td>44</td>\n",
       "      <td>44000</td>\n",
       "    </tr>\n",
       "    <tr>\n",
       "      <th>1</th>\n",
       "      <td>Bidisha</td>\n",
       "      <td>63</td>\n",
       "      <td>45000</td>\n",
       "    </tr>\n",
       "    <tr>\n",
       "      <th>2</th>\n",
       "      <td>Trishita</td>\n",
       "      <td>16</td>\n",
       "      <td>46000</td>\n",
       "    </tr>\n",
       "    <tr>\n",
       "      <th>3</th>\n",
       "      <td>Sulagna</td>\n",
       "      <td>48</td>\n",
       "      <td>47000</td>\n",
       "    </tr>\n",
       "    <tr>\n",
       "      <th>4</th>\n",
       "      <td>Aindrila</td>\n",
       "      <td>3</td>\n",
       "      <td>48000</td>\n",
       "    </tr>\n",
       "  </tbody>\n",
       "</table>\n",
       "</div>"
      ],
      "text/plain": [
       "       Name  Roll Number  Fees Amount\n",
       "0    Ishika           44        44000\n",
       "1   Bidisha           63        45000\n",
       "2  Trishita           16        46000\n",
       "3   Sulagna           48        47000\n",
       "4  Aindrila            3        48000"
      ]
     },
     "execution_count": 2,
     "metadata": {},
     "output_type": "execute_result"
    }
   ],
   "source": [
    "#Assignment 1\n",
    "data={\n",
    "    \"Name\":[\"Ishika\",\"Bidisha\",\"Trishita\",\"Sulagna\",\"Aindrila\"],\n",
    "    \"Roll Number\":[44,63,16,48,3],\n",
    "    \"Fees Amount\":[44000,45000,46000,47000,48000]\n",
    "}\n",
    "df=pd.DataFrame(data)\n",
    "df"
   ]
  },
  {
   "cell_type": "markdown",
   "id": "42e37f01",
   "metadata": {},
   "source": [
    "## Read mba.csv file and just fetch the name and fees and print it with the help of data frame."
   ]
  },
  {
   "cell_type": "code",
   "execution_count": 3,
   "id": "581436ad",
   "metadata": {},
   "outputs": [
    {
     "name": "stdout",
     "output_type": "stream",
     "text": [
      "Names are\n",
      "0    Anwesha\n",
      "1     Ipsita\n",
      "2      Soham\n",
      "3     Ritesh\n",
      "4      White\n",
      "Name: Name, dtype: object\n",
      "Fees are\n",
      "0     50000\n",
      "1     80000\n",
      "2     70000\n",
      "3    100000\n",
      "4    120000\n",
      "Name: Fees, dtype: int64\n"
     ]
    }
   ],
   "source": [
    "#Assignment 2\n",
    "df = pd.read_csv('mba.csv')\n",
    "names=df['Name']\n",
    "print(\"Names are\")\n",
    "print(names)\n",
    "fees=df['Fees']\n",
    "print(\"Fees are\")\n",
    "print(fees)"
   ]
  },
  {
   "cell_type": "markdown",
   "id": "69ae557b",
   "metadata": {},
   "source": [
    "## Fetch your answer for question 2 with the help of Pandas Series."
   ]
  },
  {
   "cell_type": "code",
   "execution_count": 4,
   "id": "e8f0d79b",
   "metadata": {},
   "outputs": [
    {
     "name": "stdout",
     "output_type": "stream",
     "text": [
      "0    Anwesha\n",
      "1     Ipsita\n",
      "2      Soham\n",
      "3     Ritesh\n",
      "4      White\n",
      "Name: Name, dtype: object\n",
      "0     50000\n",
      "1     80000\n",
      "2     70000\n",
      "3    100000\n",
      "4    120000\n",
      "Name: Fees, dtype: int64\n"
     ]
    }
   ],
   "source": [
    "#Assignment 3\n",
    "s1=pd.Series(df[\"Name\"])\n",
    "print(s1)\n",
    "s2=pd.Series(df['Fees'])\n",
    "print(s2)\n"
   ]
  },
  {
   "cell_type": "markdown",
   "id": "f747f093",
   "metadata": {},
   "source": [
    "## Copy the datas from csv file dirtydata.csv and replace all the null calories value to 120 and also try to change the null date format to a valid date."
   ]
  },
  {
   "cell_type": "code",
   "execution_count": 5,
   "id": "85c7b325",
   "metadata": {},
   "outputs": [
    {
     "name": "stdout",
     "output_type": "stream",
     "text": [
      "    Duration       Date  Pulse  Maxpulse  Calories\n",
      "0         60 2020-12-01    110       130     409.1\n",
      "1         60 2020-12-02    117       145     479.0\n",
      "2         60 2020-12-03    103       135     340.0\n",
      "3         45 2020-12-04    109       175     282.4\n",
      "4         45 2020-12-05    117       148     406.0\n",
      "5         60 2020-12-06    102       127     300.0\n",
      "6         60 2020-12-07    110       136     374.0\n",
      "7        450 2020-12-08    104       134     253.3\n",
      "8         30 2020-12-09    109       133     195.1\n",
      "9         60 2020-12-10     98       124     269.0\n",
      "10        60 2020-12-11    103       147     329.3\n",
      "11        60 2020-12-12    100       120     250.7\n",
      "12        60 2020-12-12    100       120     250.7\n",
      "13        60 2020-12-13    106       128     345.3\n",
      "14        60 2020-12-14    104       132     379.3\n",
      "15        60 2020-12-15     98       123     275.0\n",
      "16        60 2020-12-16     98       120     215.2\n",
      "17        60 2020-12-17    100       120     300.0\n",
      "18        45 2020-12-18     90       112     120.0\n",
      "19        60 2020-12-19    103       123     323.0\n",
      "20        45 2020-12-20     97       125     243.0\n",
      "21        60 2020-12-21    108       131     364.2\n",
      "22        45 2020-12-01    100       119     282.0\n",
      "23        60 2020-12-23    130       101     300.0\n",
      "24        45 2020-12-24    105       132     246.0\n",
      "25        60 2020-12-25    102       126     334.5\n",
      "26        60 2020-12-26    100       120     250.0\n",
      "27        60 2020-12-27     92       118     241.0\n",
      "28        60 2020-12-28    103       132     120.0\n",
      "29        60 2020-12-29    100       132     280.0\n",
      "30        60 2020-12-30    102       129     380.3\n",
      "31        60 2020-12-31     92       115     243.0\n"
     ]
    }
   ],
   "source": [
    "#Assignment 4\n",
    "df = pd.read_csv('dirtydata.csv')\n",
    "df['Calories'].fillna(120,inplace=True)\n",
    "df['Date']=pd.to_datetime(df['Date'])\n",
    "df['Date']=df['Date'].fillna('2020/12/1')\n",
    "print(df)\n"
   ]
  },
  {
   "cell_type": "markdown",
   "id": "588ecc47",
   "metadata": {},
   "source": [
    "## Take a data frame df2 and replace all Nan rows with the mode value for the column calories. Data set is dirtydata."
   ]
  },
  {
   "cell_type": "code",
   "execution_count": 6,
   "id": "8022d3ae",
   "metadata": {},
   "outputs": [
    {
     "name": "stdout",
     "output_type": "stream",
     "text": [
      "The mode is  300.0\n",
      "    Duration         Date  Pulse  Maxpulse  Calories\n",
      "0         60  2020/12/01'    110       130     409.1\n",
      "1         60  2020/12/02'    117       145     479.0\n",
      "2         60  2020/12/03'    103       135     340.0\n",
      "3         45  2020/12/04'    109       175     282.4\n",
      "4         45  2020/12/05'    117       148     406.0\n",
      "5         60  2020/12/06'    102       127     300.0\n",
      "6         60  2020/12/07'    110       136     374.0\n",
      "7        450  2020/12/08'    104       134     253.3\n",
      "8         30  2020/12/09'    109       133     195.1\n",
      "9         60  2020/12/10'     98       124     269.0\n",
      "10        60  2020/12/11'    103       147     329.3\n",
      "11        60  2020/12/12'    100       120     250.7\n",
      "12        60  2020/12/12'    100       120     250.7\n",
      "13        60  2020/12/13'    106       128     345.3\n",
      "14        60  2020/12/14'    104       132     379.3\n",
      "15        60  2020/12/15'     98       123     275.0\n",
      "16        60  2020/12/16'     98       120     215.2\n",
      "17        60  2020/12/17'    100       120     300.0\n",
      "18        45  2020/12/18'     90       112     300.0\n",
      "19        60  2020/12/19'    103       123     323.0\n",
      "20        45  2020/12/20'     97       125     243.0\n",
      "21        60  2020/12/21'    108       131     364.2\n",
      "22        45          NaN    100       119     282.0\n",
      "23        60  2020/12/23'    130       101     300.0\n",
      "24        45  2020/12/24'    105       132     246.0\n",
      "25        60  2020/12/25'    102       126     334.5\n",
      "26        60     20201226    100       120     250.0\n",
      "27        60  2020/12/27'     92       118     241.0\n",
      "28        60  2020/12/28'    103       132     300.0\n",
      "29        60  2020/12/29'    100       132     280.0\n",
      "30        60  2020/12/30'    102       129     380.3\n",
      "31        60  2020/12/31'     92       115     243.0\n"
     ]
    }
   ],
   "source": [
    "#Assignment 5\n",
    "df2=pd.read_csv('dirtydata.csv')\n",
    "x = df[\"Calories\"].mode()[0]\n",
    "print(\"The mode is \",x)\n",
    "df2['Calories'].fillna(x,inplace=True)\n",
    "print(df2)"
   ]
  },
  {
   "cell_type": "markdown",
   "id": "d2fc9527",
   "metadata": {},
   "source": [
    "## Take df2 and for all the index values for the column calories if it is > 250 replace the calorie value with 250."
   ]
  },
  {
   "cell_type": "code",
   "execution_count": 7,
   "id": "6707e0f3",
   "metadata": {},
   "outputs": [
    {
     "name": "stdout",
     "output_type": "stream",
     "text": [
      "    Duration         Date  Pulse  Maxpulse  Calories\n",
      "0         60  2020/12/01'    110       130     250.0\n",
      "1         60  2020/12/02'    117       145     250.0\n",
      "2         60  2020/12/03'    103       135     250.0\n",
      "3         45  2020/12/04'    109       175     250.0\n",
      "4         45  2020/12/05'    117       148     250.0\n",
      "5         60  2020/12/06'    102       127     250.0\n",
      "6         60  2020/12/07'    110       136     250.0\n",
      "7        450  2020/12/08'    104       134     250.0\n",
      "8         30  2020/12/09'    109       133     195.1\n",
      "9         60  2020/12/10'     98       124     250.0\n",
      "10        60  2020/12/11'    103       147     250.0\n",
      "11        60  2020/12/12'    100       120     250.0\n",
      "12        60  2020/12/12'    100       120     250.0\n",
      "13        60  2020/12/13'    106       128     250.0\n",
      "14        60  2020/12/14'    104       132     250.0\n",
      "15        60  2020/12/15'     98       123     250.0\n",
      "16        60  2020/12/16'     98       120     215.2\n",
      "17        60  2020/12/17'    100       120     250.0\n",
      "18        45  2020/12/18'     90       112     250.0\n",
      "19        60  2020/12/19'    103       123     250.0\n",
      "20        45  2020/12/20'     97       125     243.0\n",
      "21        60  2020/12/21'    108       131     250.0\n",
      "22        45          NaN    100       119     250.0\n",
      "23        60  2020/12/23'    130       101     250.0\n",
      "24        45  2020/12/24'    105       132     246.0\n",
      "25        60  2020/12/25'    102       126     250.0\n",
      "26        60     20201226    100       120     250.0\n",
      "27        60  2020/12/27'     92       118     241.0\n",
      "28        60  2020/12/28'    103       132     250.0\n",
      "29        60  2020/12/29'    100       132     250.0\n",
      "30        60  2020/12/30'    102       129     250.0\n",
      "31        60  2020/12/31'     92       115     243.0\n"
     ]
    }
   ],
   "source": [
    "#Assignment 6\n",
    "for x in df.index:\n",
    "    if df2.loc[x, \"Calories\"] > 250:\n",
    "        df2.loc[x, \"Calories\"] = 250\n",
    "print(df2)        "
   ]
  }
 ],
 "metadata": {
  "kernelspec": {
   "display_name": "Python 3 (ipykernel)",
   "language": "python",
   "name": "python3"
  },
  "language_info": {
   "codemirror_mode": {
    "name": "ipython",
    "version": 3
   },
   "file_extension": ".py",
   "mimetype": "text/x-python",
   "name": "python",
   "nbconvert_exporter": "python",
   "pygments_lexer": "ipython3",
   "version": "3.9.7"
  }
 },
 "nbformat": 4,
 "nbformat_minor": 5
}
