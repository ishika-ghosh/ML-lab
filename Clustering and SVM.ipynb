{
 "cells": [
  {
   "cell_type": "code",
   "execution_count": 1,
   "id": "a7cf1023",
   "metadata": {},
   "outputs": [],
   "source": [
    "import pandas as pd\n",
    "from sklearn.cluster import KMeans\n",
    "import matplotlib.pyplot as plt\n",
    "from sklearn.model_selection import train_test_split\n",
    "from sklearn.svm import SVC\n",
    "from sklearn import metrics"
   ]
  },
  {
   "cell_type": "markdown",
   "id": "ce565c11",
   "metadata": {},
   "source": [
    "Assignment 1: Using the dataset “tips.csv” implement k-means clustering technique on two fields “total_bill”, “tip”."
   ]
  },
  {
   "cell_type": "code",
   "execution_count": 2,
   "id": "7a7997a2",
   "metadata": {},
   "outputs": [
    {
     "name": "stdout",
     "output_type": "stream",
     "text": [
      "   total_bill   tip     sex smoker  day    time  size\n",
      "0       16.99  1.01  Female     No  Sun  Dinner     2\n",
      "1       10.34  1.66    Male     No  Sun  Dinner     3\n",
      "2       21.01  3.50    Male     No  Sun  Dinner     3\n",
      "3       23.68  3.31    Male     No  Sun  Dinner     2\n",
      "4       24.59  3.61  Female     No  Sun  Dinner     4\n"
     ]
    },
    {
     "data": {
      "text/plain": [
       "<matplotlib.collections.PathCollection at 0x27224696d30>"
      ]
     },
     "execution_count": 2,
     "metadata": {},
     "output_type": "execute_result"
    },
    {
     "data": {
      "image/png": "[encoded data removed]",
      "text/plain": [
       "<Figure size 432x288 with 1 Axes>"
      ]
     },
     "metadata": {
      "needs_background": "light"
     },
     "output_type": "display_data"
    }
   ],
   "source": [
    "df=pd.read_csv(\"tips.csv\")\n",
    "print(df.head())\n",
    "x=df['tip']\n",
    "y=df['total_bill']\n",
    "kmeans=KMeans(init=\"random\",n_clusters=3,n_init=10,max_iter=300,random_state=42)\n",
    "kmeans.fit(df[['tip','total_bill']])\n",
    "kmeans.labels_\n",
    "plt.scatter(x,y,c=kmeans.labels_)"
   ]
  },
  {
   "cell_type": "markdown",
   "id": "4b75ca40",
   "metadata": {},
   "source": [
    "Assignment2: Use the data set “fruits.csv” and form SVM classification by taking weight and size as the parameter. If you take single parameters does the SVM technique differs? Justify."
   ]
  },
  {
   "cell_type": "code",
   "execution_count": 3,
   "id": "d5d13a97",
   "metadata": {},
   "outputs": [
    {
     "name": "stdout",
     "output_type": "stream",
     "text": [
      "   Index  Weight  size   Class\n",
      "0      0      69  4.39  orange\n",
      "1      1      68  4.21  orange\n",
      "2      2      65  4.28  orange\n",
      "3      3      72  5.85   apple\n",
      "4      4      67  4.74  orange\n",
      "\n",
      "\n",
      "Taking two parameters: \n",
      "Confusion Matrix is:\n",
      " [[2 0]\n",
      " [0 2]]\n",
      "              precision    recall  f1-score   support\n",
      "\n",
      "       apple       1.00      1.00      1.00         2\n",
      "      orange       1.00      1.00      1.00         2\n",
      "\n",
      "    accuracy                           1.00         4\n",
      "   macro avg       1.00      1.00      1.00         4\n",
      "weighted avg       1.00      1.00      1.00         4\n",
      "\n",
      "Accuracy 100.0 %\n",
      "\n",
      "\n",
      "Taking two parameters: \n",
      "Confusion Matrix is:\n",
      " [[1 1]\n",
      " [0 2]]\n",
      "              precision    recall  f1-score   support\n",
      "\n",
      "       apple       1.00      0.50      0.67         2\n",
      "      orange       0.67      1.00      0.80         2\n",
      "\n",
      "    accuracy                           0.75         4\n",
      "   macro avg       0.83      0.75      0.73         4\n",
      "weighted avg       0.83      0.75      0.73         4\n",
      "\n",
      "Accuracy 75.0 %\n"
     ]
    }
   ],
   "source": [
    "#Assignment 2\n",
    "df=pd.read_csv(\"fruits.csv\")\n",
    "print(df.head())\n",
    "#taking two parameters\n",
    "X=df.drop([\"Index\",\"Class\"],axis=1)\n",
    "Y=df['Class']\n",
    "X_train,X_test,Y_train,Y_test=train_test_split(X,Y,test_size=0.20,random_state=4)\n",
    "classifier=SVC(kernel='rbf')\n",
    "classifier.fit(X_train,Y_train)\n",
    "Y_pred=classifier.predict(X_test)\n",
    "print(\"\\n\\nTaking two parameters: \")\n",
    "print(\"Confusion Matrix is:\\n\",metrics.confusion_matrix(Y_test,Y_pred))\n",
    "print(metrics.classification_report(Y_test,Y_pred))\n",
    "print(\"Accuracy\",(metrics.accuracy_score(Y_pred,Y_test)*100),\"%\")\n",
    "\n",
    "#taking single parameters\n",
    "X=df.drop([\"Index\",\"Class\",\"size\"],axis=1)\n",
    "Y=df[\"Class\"]\n",
    "X_train,X_test,Y_train,Y_test=train_test_split(X,Y,test_size=0.20,random_state=4)\n",
    "classifier=SVC(kernel=\"rbf\")\n",
    "classifier.fit(X_train,Y_train)\n",
    "Y_pred=classifier.predict(X_test)\n",
    "print(\"\\n\\nTaking two parameters: \")\n",
    "print(\"Confusion Matrix is:\\n\",metrics.confusion_matrix(Y_test,Y_pred))\n",
    "print(metrics.classification_report(Y_test,Y_pred))\n",
    "print(\"Accuracy\",(metrics.accuracy_score(Y_pred,Y_test)*100),\"%\")\n"
   ]
  },
  {
   "cell_type": "markdown",
   "id": "6e644d0d",
   "metadata": {},
   "source": [
    "Discussion: With single parameter the accuracy of the model decreases. Thus it is required that we use more number of useful attributes or parameters to train our model more effectively."
   ]
  }
 ],
 "metadata": {
  "kernelspec": {
   "display_name": "Python 3 (ipykernel)",
   "language": "python",
   "name": "python3"
  },
  "language_info": {
   "codemirror_mode": {
    "name": "ipython",
    "version": 3
   },
   "file_extension": ".py",
   "mimetype": "text/x-python",
   "name": "python",
   "nbconvert_exporter": "python",
   "pygments_lexer": "ipython3",
   "version": "3.9.7"
  }
 },
 "nbformat": 4,
 "nbformat_minor": 5
}
