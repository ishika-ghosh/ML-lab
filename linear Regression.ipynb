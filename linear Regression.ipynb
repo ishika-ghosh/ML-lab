{
 "cells": [
  {
   "cell_type": "markdown",
   "id": "ad114b66",
   "metadata": {},
   "source": [
    "# Go through position_salaries.csv file and show that it is not following linear regression and can be best modelled with polynomial regression. It consists of only two fields’ position and salary."
   ]
  },
  {
   "cell_type": "code",
   "execution_count": 1,
   "id": "a6b1743d",
   "metadata": {},
   "outputs": [],
   "source": [
    "import numpy as np\n",
    "from sklearn.linear_model import LinearRegression\n",
    "from sklearn.model_selection import train_test_split\n",
    "import pandas as pd\n",
    "import matplotlib.pyplot as plt"
   ]
  },
  {
   "cell_type": "code",
   "execution_count": 2,
   "id": "8fb2909c",
   "metadata": {},
   "outputs": [
    {
     "data": {
      "image/png": "[encoded data removed]",
      "text/plain": [
       "<Figure size 432x288 with 1 Axes>"
      ]
     },
     "metadata": {
      "needs_background": "light"
     },
     "output_type": "display_data"
    }
   ],
   "source": [
    "#Assignment 1\n",
    "df=pd.read_csv('position_salaries.csv')\n",
    "position_type = {\n",
    "'Business Analyst': 1,\n",
    "'Junior Consultant': 2,\n",
    "'Senior Consultant': 3,\n",
    "'Manager': 4,\n",
    "'Country Manager':5,\n",
    "'Region Manager': 6,\n",
    "'Partner': 7,\n",
    "'Senior Partner': 8,\n",
    "'C-level': 9,\n",
    "'CEO': 10\n",
    "}\n",
    "df['position_type'] = df['Position'].apply(position_type.get)\n",
    "X = df[['position_type']]\n",
    "Y = df['Salary']\n",
    "X_train,X_test, Y_train, Y_test = train_test_split(X,Y,test_size=1/3,random_state=0)\n",
    "##Fitting Linear Regression to the dataset\n",
    "\n",
    "lin_reg = LinearRegression()\n",
    "lin_reg.fit(X,Y)\n",
    "##Visualizing the Linear Regression results\n",
    "plt.scatter(X,Y,color='red')\n",
    "plt.plot(X, lin_reg.predict(X), color='blue')\n",
    "plt.title('Linear Regression')\n",
    "plt.xlabel('Position level')\n",
    "plt.ylabel('Salary')\n",
    "plt.show()"
   ]
  },
  {
   "cell_type": "markdown",
   "id": "a303dbef",
   "metadata": {},
   "source": [
    "# From sklearn.datasets import make regression and fit the data and perform the linear regression. Use scatter plot."
   ]
  },
  {
   "cell_type": "code",
   "execution_count": 3,
   "id": "7f3dd6d7",
   "metadata": {},
   "outputs": [],
   "source": [
    "from sklearn.datasets import make_regression\n",
    "from sklearn.linear_model import LinearRegression\n",
    "from matplotlib import pyplot as plt"
   ]
  },
  {
   "cell_type": "code",
   "execution_count": 4,
   "id": "d963c2d4",
   "metadata": {},
   "outputs": [
    {
     "data": {
      "text/plain": [
       "<matplotlib.collections.PathCollection at 0x18869e5a8e0>"
      ]
     },
     "execution_count": 4,
     "metadata": {},
     "output_type": "execute_result"
    },
    {
     "data": {
      "image/png": "[encoded data removed]",
      "text/plain": [
       "<Figure size 432x288 with 1 Axes>"
      ]
     },
     "metadata": {
      "needs_background": "light"
     },
     "output_type": "display_data"
    }
   ],
   "source": [
    "#Assignment 4\n",
    "X,Y = make_regression(n_samples=150, n_features=1, noise=0.2)\n",
    "X_train,X_test,Y_train,Y_test = train_test_split(X,Y,test_size=0.3,random_state=0)\n",
    "model = LinearRegression()\n",
    "model.fit(X_train,Y_train)\n",
    "Y_pred = model.predict(X_test)\n",
    "plt.xlabel('X_val')\n",
    "plt.ylabel('Y')\n",
    "plt.title('Real vs Predicted values comparison')\n",
    "plt.scatter(X_test,Y_test)\n",
    "plt.scatter(X_test,Y_pred)"
   ]
  },
  {
   "cell_type": "markdown",
   "id": "4fec5ca8",
   "metadata": {},
   "source": [
    "## Assignment 5: Take Y= [ 5, 4, 3, 6,7, 8,9, 5,4,,3,1] , X= [ yoe, level, leow, city] such that yoe and leow is directly proportional to the data and level is moderately dependent and calculate R2 and equation slope and intercept for yoe, level and leow which is the best parameter"
   ]
  },
  {
   "cell_type": "code",
   "execution_count": 5,
   "id": "03b9b696",
   "metadata": {},
   "outputs": [],
   "source": [
    "import numpy as np\n",
    "from sklearn.linear_model import LinearRegression"
   ]
  },
  {
   "cell_type": "code",
   "execution_count": 6,
   "id": "8096491b",
   "metadata": {},
   "outputs": [
    {
     "name": "stdout",
     "output_type": "stream",
     "text": [
      "\n",
      "############## X = [yoe, level, leow, city] ##############\n",
      "\n",
      "R-squared =  0.500401767266164\n"
     ]
    }
   ],
   "source": [
    "#Assignment 5\n",
    "yoe = np.array([3,2,1,3,4,5,5,3,2,1,1]).reshape(-1, 1)\n",
    "level = np.array([2,1,0,3,4,4,5,2,1,0,0]).reshape(-1, 1)\n",
    "leow = np.array([5,3,2,5,5,8,8,4,3,2,0]).reshape(-1, 1)\n",
    "city = np.array([1,1,2,5,4,3,6,7,4,2,3]).reshape(-1, 1)\n",
    "Y = np.array([5,4,3,6,7,8,9,5,4,3,1])\n",
    "X = np.array([yoe, level, leow, city]).reshape(11,4)\n",
    "model = LinearRegression()\n",
    "model.fit(X, Y)\n",
    "print(\"\\n############## X = [yoe, level, leow, city] ##############\\n\")\n",
    "r_sq = model.score(X,Y)\n",
    "print('R-squared = ',r_sq)"
   ]
  },
  {
   "cell_type": "code",
   "execution_count": 7,
   "id": "877e950a",
   "metadata": {},
   "outputs": [
    {
     "name": "stdout",
     "output_type": "stream",
     "text": [
      "\n",
      "######################## X = [yoe] ########################\n",
      "R-squared =  0.9306206088992974\n",
      "intercept: 0.8196721311475406\n",
      "slope: [1.53278689]\n",
      "The required equation is --> 0.8197 + 1.5328 * X \n"
     ]
    }
   ],
   "source": [
    "print(\"\\n######################## X = [yoe] ########################\")\n",
    "X = yoe\n",
    "model = LinearRegression()\n",
    "model.fit(X, Y)\n",
    "r_sq = model.score(X,Y)\n",
    "print('R-squared = ',r_sq)\n",
    "print('intercept:', model.intercept_)\n",
    "print('slope:', model.coef_)\n",
    "b0 = (model.intercept_).round(4)\n",
    "b1 = (model.coef_[0]).round(4)\n",
    "print(\"The required equation is -->\",b0,\"+\",b1,\"* X \")"
   ]
  },
  {
   "cell_type": "code",
   "execution_count": 8,
   "id": "2c02d34e",
   "metadata": {},
   "outputs": [
    {
     "name": "stdout",
     "output_type": "stream",
     "text": [
      "\n",
      "######################## X = [level] ########################\n",
      "R-squared =  0.9380580357142857\n",
      "intercept: 2.4375\n",
      "slope: [1.28125]\n",
      "The required equation is --> 2.4375 + 1.2812 * X \n"
     ]
    }
   ],
   "source": [
    "print(\"\\n######################## X = [level] ########################\")\n",
    "X = level\n",
    "model = LinearRegression()\n",
    "model.fit(X, Y)\n",
    "r_sq = model.score(X,Y)\n",
    "print('R-squared = ',r_sq)\n",
    "print('intercept:', model.intercept_)\n",
    "print('slope:', model.coef_)\n",
    "b0 = (model.intercept_).round(4)\n",
    "b1 = (model.coef_[0]).round(4)\n",
    "print(\"The required equation is -->\",b0,\"+\",b1,\"* X \")"
   ]
  },
  {
   "cell_type": "code",
   "execution_count": 9,
   "id": "8ee8a484",
   "metadata": {},
   "outputs": [
    {
     "name": "stdout",
     "output_type": "stream",
     "text": [
      "\n",
      "######################## X = [leow] ########################\n",
      "R-squared =  0.9525319829424307\n",
      "intercept: 1.171641791044776\n",
      "slope: [0.9358209]\n",
      "The required equation is --> 1.1716 + 0.9358 * X \n"
     ]
    }
   ],
   "source": [
    "print(\"\\n######################## X = [leow] ########################\")\n",
    "X = leow\n",
    "model = LinearRegression()\n",
    "model.fit(X, Y)\n",
    "r_sq = model.score(X,Y)\n",
    "print('R-squared = ',r_sq)\n",
    "print('intercept:', model.intercept_)\n",
    "print('slope:', model.coef_)\n",
    "b0 = (model.intercept_).round(4)\n",
    "b1 = (model.coef_[0]).round(4)\n",
    "print(\"The required equation is -->\",b0,\"+\",b1,\"* X \")"
   ]
  },
  {
   "cell_type": "markdown",
   "id": "149eeb4d",
   "metadata": {},
   "source": [
    "## Assignment 6:Take Y= [ 5,4,3,6,7,8,9,5,4,3] and X= [[3,2], [2,1], [1,0],[3,3],[4,4],[5,4],[5,5],[3,2],[2,1],[1,0]] Where x0= yoe and x1= level. Calculate R2 and equation slope and intercept.\n"
   ]
  },
  {
   "cell_type": "code",
   "execution_count": 10,
   "id": "c09806af",
   "metadata": {},
   "outputs": [],
   "source": [
    "import numpy as np\n",
    "from sklearn.linear_model import LinearRegression"
   ]
  },
  {
   "cell_type": "code",
   "execution_count": 11,
   "id": "13d9d28c",
   "metadata": {},
   "outputs": [
    {
     "data": {
      "text/plain": [
       "array([5.29166667, 4.03125   , 2.77083333, 6.07291667, 7.33333333,\n",
       "       7.8125    , 8.59375   , 5.29166667, 4.03125   , 2.77083333])"
      ]
     },
     "execution_count": 11,
     "metadata": {},
     "output_type": "execute_result"
    }
   ],
   "source": [
    "Y_=[ 5,4,3,6,7,8,9,5,4,3]\n",
    "X_= [[3,2],[2,1],[1,0],[3,3],[4,4],[5,4],[5,5],[3,2],[2,1],[1,0]]\n",
    "X_ = pd.DataFrame(X_, columns=['yoe', 'level'])\n",
    "model = LinearRegression().fit(X_, Y_)\n",
    "model.score(X_, Y_)\n",
    "model.intercept_\n",
    "model.coef_\n",
    "model.predict(X_)"
   ]
  },
  {
   "cell_type": "code",
   "execution_count": null,
   "id": "3195127a",
   "metadata": {},
   "outputs": [],
   "source": []
  }
 ],
 "metadata": {
  "kernelspec": {
   "display_name": "Python 3 (ipykernel)",
   "language": "python",
   "name": "python3"
  },
  "language_info": {
   "codemirror_mode": {
    "name": "ipython",
    "version": 3
   },
   "file_extension": ".py",
   "mimetype": "text/x-python",
   "name": "python",
   "nbconvert_exporter": "python",
   "pygments_lexer": "ipython3",
   "version": "3.9.7"
  }
 },
 "nbformat": 4,
 "nbformat_minor": 5
}
